{
 "cells": [
  {
   "cell_type": "markdown",
   "metadata": {},
   "source": [
    "# Python Day 2\n",
    "\n",
    "### Question 1\n",
    "\n",
    "Given an array of integers, write a function to move all zeros to the end of it while maintaining the relative order of the non-zero elements.\n",
    "Example:\n",
    "If you input the array [0, 0, 6, 5, 3, 3, 7, 9, 0], \n",
    "\n",
    "the output will be [6, 5, 3, 3, 7, 9, 0, 0, 0].\n",
    "\n",
    "### Question 2\n",
    "\n",
    "Given an array of integers, write a function to find the maximum product of two integers in the array.\n",
    "\n",
    "Example:\n",
    "If you input the array [1, 2, 3, 6, 8, 0, 4, 6, 7], \n",
    "\n",
    "the maximum product of two integers in the array would be 48, which is achieved by multiplying 8 and 7."
   ]
  },
  {
   "cell_type": "code",
   "execution_count": null,
   "metadata": {},
   "outputs": [],
   "source": [
    "# Question 1\n",
    "\n",
    "arr = [0,0,6,5,3,3,7,9,0]"
   ]
  },
  {
   "cell_type": "code",
   "execution_count": 6,
   "metadata": {},
   "outputs": [
    {
     "name": "stdout",
     "output_type": "stream",
     "text": [
      "The Product of two highest integer is 56\n"
     ]
    }
   ],
   "source": [
    "# Question 2\n",
    "\n",
    "arr = [1, 2, 3, 6, 8, 0, 4, 6, 7]\n",
    "\n",
    "max = 0;\n",
    "second_max = 0;\n",
    "for i in arr:\n",
    "    if(i > max):\n",
    "        max = i\n",
    "\n",
    "# for second max\n",
    "for i in arr:\n",
    "    if(i > second_max and i < max):\n",
    "        second_max = i\n",
    "\n",
    "\n",
    "# print(arr)\n",
    "# print(max)\n",
    "# print(second_max)\n",
    "\n",
    "# now we have first and second max value\n",
    "product = max * second_max\n",
    "print(\"The Product of two highest integer is\", product) \n"
   ]
  }
 ],
 "metadata": {
  "kernelspec": {
   "display_name": "Python 3",
   "language": "python",
   "name": "python3"
  },
  "language_info": {
   "codemirror_mode": {
    "name": "ipython",
    "version": 3
   },
   "file_extension": ".py",
   "mimetype": "text/x-python",
   "name": "python",
   "nbconvert_exporter": "python",
   "pygments_lexer": "ipython3",
   "version": "3.11.5"
  }
 },
 "nbformat": 4,
 "nbformat_minor": 2
}

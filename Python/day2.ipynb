{
 "cells": [
  {
   "cell_type": "markdown",
   "metadata": {},
   "source": [
    "# Python Day 2\n",
    "\n",
    "### Question 1\n",
    "\n",
    "Given an array of integers, write a function to move all zeros to the end of it while maintaining the relative order of the non-zero elements.\n",
    "Example:\n",
    "If you input the array [0, 0, 6, 5, 3, 3, 7, 9, 0], \n",
    "\n",
    "the output will be [6, 5, 3, 3, 7, 9, 0, 0, 0].\n",
    "\n",
    "### Question 2\n",
    "\n",
    "Given an array of integers, write a function to find the maximum product of two integers in the array.\n",
    "\n",
    "Example:\n",
    "If you input the array [1, 2, 3, 6, 8, 0, 4, 6, 7], \n",
    "\n",
    "the maximum product of two integers in the array would be 48, which is achieved by multiplying 8 and 6."
   ]
  }
 ],
 "metadata": {
  "language_info": {
   "name": "python"
  }
 },
 "nbformat": 4,
 "nbformat_minor": 2
}

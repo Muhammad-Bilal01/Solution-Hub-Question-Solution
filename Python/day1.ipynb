{
 "cells": [
  {
   "cell_type": "markdown",
   "metadata": {},
   "source": [
    "# Python Day 1\n",
    "\n",
    "### Question 1\n",
    "\n",
    "Q1: Write a function that takes an array of integers as input and returns the sum of all the positive integers in the array.\n",
    "\n",
    "*Example:*\n",
    "\n",
    "Input: [1, -2, 3, -4, 5]\n",
    "Output: 9 \n",
    "\n",
    "*Explaination:*\n",
    "\n",
    "(1 + 3 + 5)\n",
    "\n",
    "_________\n"
   ]
  },
  {
   "cell_type": "code",
   "execution_count": 5,
   "metadata": {},
   "outputs": [
    {
     "name": "stdout",
     "output_type": "stream",
     "text": [
      "9\n",
      "15\n"
     ]
    }
   ],
   "source": [
    "arr = [1,-2,3,-4,5]\n",
    "\n",
    "# loop to get each value in the array\n",
    "\n",
    "def sumOfPositiveInteger(arr):\n",
    "    sum = 0 # store the sum of array\n",
    "    product = 1\n",
    "    for i in arr:\n",
    "        if(i > 0):\n",
    "            sum += i # add new value\n",
    "            product *= i;\n",
    "    print(sum)\n",
    "    print(product)\n",
    "    pass\n",
    "\n",
    "sumOfPositiveInteger(arr)\n"
   ]
  },
  {
   "cell_type": "markdown",
   "metadata": {},
   "source": [
    "### Question 2\n",
    " Write a function that takes a string as input and returns the number of vowels (a, e, i, o, u) present in the string.\n",
    "\n",
    "Example:\n",
    "\n",
    "Input: \"hello\"\n",
    "\n",
    "Output: 2 (e and o)\n"
   ]
  },
  {
   "cell_type": "code",
   "execution_count": 12,
   "metadata": {},
   "outputs": [
    {
     "name": "stdout",
     "output_type": "stream",
     "text": [
      "Vowels 7\n"
     ]
    }
   ],
   "source": [
    "str = input(\"Enter String: \")\n",
    "\n",
    "\n",
    "def isVowel(str):\n",
    "    s = str.lower()\n",
    "    \n",
    "    countVowels = 0\n",
    "    for i in s:\n",
    "        if (i == \"a\" or i == \"e\" or i == \"i\" or i == \"o\" or i == \"u\"):\n",
    "            countVowels +=1\n",
    "    print(\"Vowels\",countVowels)\n",
    "    \n",
    "isVowel(str)"
   ]
  }
 ],
 "metadata": {
  "kernelspec": {
   "display_name": "Python 3",
   "language": "python",
   "name": "python3"
  },
  "language_info": {
   "codemirror_mode": {
    "name": "ipython",
    "version": 3
   },
   "file_extension": ".py",
   "mimetype": "text/x-python",
   "name": "python",
   "nbconvert_exporter": "python",
   "pygments_lexer": "ipython3",
   "version": "3.11.5"
  }
 },
 "nbformat": 4,
 "nbformat_minor": 2
}
